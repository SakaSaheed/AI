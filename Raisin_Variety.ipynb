{
  "nbformat": 4,
  "nbformat_minor": 0,
  "metadata": {
    "colab": {
      "provenance": [],
      "authorship_tag": "ABX9TyNAt/0Nuz/w2J/p6qbdbGLP",
      "include_colab_link": true
    },
    "kernelspec": {
      "name": "python3",
      "display_name": "Python 3"
    },
    "language_info": {
      "name": "python"
    }
  },
  "cells": [
    {
      "cell_type": "markdown",
      "metadata": {
        "id": "view-in-github",
        "colab_type": "text"
      },
      "source": [
        "<a href=\"https://colab.research.google.com/github/SakaSaheed/AI-ML-Project/blob/main/Raisin_Variety.ipynb\" target=\"_parent\"><img src=\"https://colab.research.google.com/assets/colab-badge.svg\" alt=\"Open In Colab\"/></a>"
      ]
    },
    {
      "cell_type": "markdown",
      "source": [
        "#Modeling of Raisin Variety Classification Dataset"
      ],
      "metadata": {
        "id": "bL-7vY29XFUK"
      }
    },
    {
      "cell_type": "code",
      "source": [
        "#import libraries\n",
        "import pandas as pd\n",
        "from sklearn import preprocessing\n",
        "from sklearn.model_selection import train_test_split, KFold, cross_val_score\n",
        "from sklearn.preprocessing import StandardScaler\n",
        "from sklearn.linear_model import LogisticRegression\n",
        "from sklearn.metrics import accuracy_score, confusion_matrix, classification_report"
      ],
      "metadata": {
        "id": "uKrxjfp1z9X_"
      },
      "execution_count": null,
      "outputs": []
    },
    {
      "cell_type": "markdown",
      "source": [
        "#Data uploading"
      ],
      "metadata": {
        "id": "OOzARVGAX8eW"
      }
    },
    {
      "cell_type": "code",
      "source": [
        "#Import data from google drive\n",
        "import requests\n",
        "import pandas as pd\n",
        "from io import StringIO\n",
        "def read_gd(sharingurl):\n",
        "    file_id = sharingurl.split('/')[-2]\n",
        "    download_url='https://drive.google.com/uc?export=download&id=' + file_id\n",
        "    url = requests.get(download_url).text\n",
        "    csv_raw = StringIO(url)\n",
        "    return csv_raw\n",
        "\n",
        "#url = \"https://drive.google.com/file/d/1i_OvUbfV2oW-7kh3V_GiCaUASIyYuFlU/view?usp=sharing\"\n",
        "url = \"https://drive.google.com/file/d/1d3L6L4VbHknngCCHgkvyz-H37KJ-xTfW/view?usp=sharing\"\n",
        "data = read_gd(url)\n",
        "\n",
        "df = pd.read_csv(data)\n",
        "\n",
        "df.head()\n"
      ],
      "metadata": {
        "id": "lClut_3SXaX3"
      },
      "execution_count": null,
      "outputs": []
    },
    {
      "cell_type": "markdown",
      "source": [
        "#"
      ],
      "metadata": {
        "id": "wU18NoD2YC2_"
      }
    },
    {
      "cell_type": "markdown",
      "source": [
        "#Data preprocessing"
      ],
      "metadata": {
        "id": "dTpT8lTVsPg7"
      }
    },
    {
      "cell_type": "code",
      "source": [
        "df.tail()"
      ],
      "metadata": {
        "id": "UDnu1fBBXrNv"
      },
      "execution_count": null,
      "outputs": []
    },
    {
      "cell_type": "markdown",
      "source": [
        "#Display Unique Values"
      ],
      "metadata": {
        "id": "uBAlGBEBYOEf"
      }
    },
    {
      "cell_type": "code",
      "source": [
        "df['Class'].unique()"
      ],
      "metadata": {
        "id": "NhQQ4BHFYPsP"
      },
      "execution_count": null,
      "outputs": []
    },
    {
      "cell_type": "code",
      "source": [
        "df['Extent']"
      ],
      "metadata": {
        "id": "53b1z6hyYWJY"
      },
      "execution_count": null,
      "outputs": []
    },
    {
      "cell_type": "code",
      "source": [
        "df[['Extent', 'Area']]"
      ],
      "metadata": {
        "id": "XkytJIhPYZS2"
      },
      "execution_count": null,
      "outputs": []
    },
    {
      "cell_type": "markdown",
      "source": [
        "#To show values assigned to a column"
      ],
      "metadata": {
        "id": "GsonmhqGYdhv"
      }
    },
    {
      "cell_type": "code",
      "source": [
        "for id, unique_class in enumerate(df['Class'].unique()):\n",
        "  print(unique_class)"
      ],
      "metadata": {
        "id": "KMltCazuYf5-"
      },
      "execution_count": null,
      "outputs": []
    },
    {
      "cell_type": "markdown",
      "source": [
        "#OR"
      ],
      "metadata": {
        "id": "sDxJriTqYl4w"
      }
    },
    {
      "cell_type": "code",
      "source": [
        "rice_classes = df['Class'].unique()\n",
        "classes = {unique_class:id for id, unique_class in enumerate(rice_classes)}\n",
        "print(classes)"
      ],
      "metadata": {
        "id": "Vo6c2ADZYn8Y"
      },
      "execution_count": null,
      "outputs": []
    },
    {
      "cell_type": "markdown",
      "source": [
        "#Transforming character to number"
      ],
      "metadata": {
        "id": "sdUbOwh-Yslu"
      }
    },
    {
      "cell_type": "code",
      "source": [
        "df['Class'] = df['Class'].map(classes)\n",
        "df.head(10)"
      ],
      "metadata": {
        "id": "enennwNZYyH3"
      },
      "execution_count": null,
      "outputs": []
    },
    {
      "cell_type": "markdown",
      "source": [
        "#Slit data"
      ],
      "metadata": {
        "id": "SWrr-sCkY7e2"
      }
    },
    {
      "cell_type": "code",
      "source": [
        "train_dataset, test_dataset = train_test_split(df, test_size=0.2) #test size is 20%\n",
        "X_train = train_dataset.drop('Class', axis=1)\n",
        "y_train = train_dataset['Class']\n",
        "X_test = test_dataset.drop('Class', axis=1)\n",
        "y_test = test_dataset['Class']"
      ],
      "metadata": {
        "id": "F2nZATH2Y2uu"
      },
      "execution_count": null,
      "outputs": []
    },
    {
      "cell_type": "markdown",
      "source": [
        "#Normalization or Standardization"
      ],
      "metadata": {
        "id": "5B4oBLNWZBhv"
      }
    },
    {
      "cell_type": "code",
      "source": [
        "scaler = StandardScaler()\n",
        "X_train = scaler.fit_transform(X_train)\n",
        "X_test = scaler.transform(X_test)"
      ],
      "metadata": {
        "id": "aOjsdz45ZDFA"
      },
      "execution_count": null,
      "outputs": []
    },
    {
      "cell_type": "markdown",
      "source": [
        "#Train Model"
      ],
      "metadata": {
        "id": "rjwOfexlZLzu"
      }
    },
    {
      "cell_type": "code",
      "source": [
        "#Train Model\n",
        "model = LogisticRegression()\n",
        "model.fit(X_train, y_train)"
      ],
      "metadata": {
        "id": "O0a784K_ZPje"
      },
      "execution_count": null,
      "outputs": []
    },
    {
      "cell_type": "markdown",
      "source": [
        "#Test Model"
      ],
      "metadata": {
        "id": "8qDs9eWWZT5e"
      }
    },
    {
      "cell_type": "code",
      "source": [
        "#Test Model\n",
        "y_pred = model.predict(X_test)"
      ],
      "metadata": {
        "id": "74H258AEZW7f"
      },
      "execution_count": null,
      "outputs": []
    },
    {
      "cell_type": "markdown",
      "source": [
        "#Evaluate Model"
      ],
      "metadata": {
        "id": "Ty1ySDipZaf2"
      }
    },
    {
      "cell_type": "code",
      "source": [
        "#Evaluate Model\n",
        "accuracy = accuracy_score(y_test, y_pred)\n",
        "print(\"Accuracy:\", accuracy)"
      ],
      "metadata": {
        "id": "aNPZkjz-Zbwd"
      },
      "execution_count": null,
      "outputs": []
    },
    {
      "cell_type": "markdown",
      "source": [
        "#Confusion Matrix"
      ],
      "metadata": {
        "id": "dkfUzqLGZiOX"
      }
    },
    {
      "cell_type": "code",
      "source": [
        "#Confusion Matrix\n",
        "cm = confusion_matrix(y_test, y_pred)\n",
        "print(\"Confusion Matrix:\")\n",
        "print(cm)"
      ],
      "metadata": {
        "id": "Z4SppLBeZkDo"
      },
      "execution_count": null,
      "outputs": []
    },
    {
      "cell_type": "markdown",
      "source": [
        "#Confusion MatrixDisplay"
      ],
      "metadata": {
        "id": "LI717vOoZq8v"
      }
    },
    {
      "cell_type": "code",
      "source": [
        "#Confusion MatrixDisplay\n",
        "import matplotlib.pyplot as plt\n",
        "from sklearn.metrics import ConfusionMatrixDisplay\n",
        "cm_display = ConfusionMatrixDisplay(confusion_matrix=cm, display_labels=rice_classes)\n",
        "cm_display.plot()\n",
        "plt.show()"
      ],
      "metadata": {
        "id": "NZiuzhj9ZtMl"
      },
      "execution_count": null,
      "outputs": []
    },
    {
      "cell_type": "markdown",
      "source": [
        "#Cross Validation"
      ],
      "metadata": {
        "id": "GoWYUnobZ3vd"
      }
    },
    {
      "cell_type": "code",
      "source": [
        "#Cross Validation\n",
        "cv = KFold(n_splits=5, shuffle=True, random_state=42)\n",
        "scores = cross_val_score(model, X_train, y_train, cv=cv, scoring='accuracy')\n",
        "print(\"Cross-validation scores:\", scores)"
      ],
      "metadata": {
        "id": "5Qj73Mx_Z6_m"
      },
      "execution_count": null,
      "outputs": []
    }
  ]
}



